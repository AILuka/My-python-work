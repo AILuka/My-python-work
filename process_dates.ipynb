{
 "cells": [
  {
   "cell_type": "code",
   "execution_count": null,
   "id": "b589802a-ccac-4e8a-9776-d314a8137cce",
   "metadata": {},
   "outputs": [],
   "source": [
    "import pandas as pd\n",
    "from datetime import datetime\n",
    "import calendar"
   ]
  },
  {
   "cell_type": "code",
   "execution_count": 10,
   "id": "65042e5b",
   "metadata": {},
   "outputs": [
    {
     "name": "stdout",
     "output_type": "stream",
     "text": [
      "2021-12-15 00:00:00\n"
     ]
    }
   ],
   "source": [
    "date_time = datetime.strptime('15.12.2021', \"%d.%m.%Y\") #date_time from any type of text\n",
    "print(date_time)"
   ]
  },
  {
   "cell_type": "code",
   "execution_count": 11,
   "id": "4feb003c",
   "metadata": {},
   "outputs": [
    {
     "name": "stdout",
     "output_type": "stream",
     "text": [
      "31\n",
      "3\n"
     ]
    }
   ],
   "source": [
    "print(calendar.monthrange(2021, 7)[1]) #return the number of days\n",
    "print(calendar.monthrange(2021, 7)[0]) #return weekday of first day of the month"
   ]
  },
  {
   "cell_type": "code",
   "execution_count": 12,
   "id": "76d2c2b9",
   "metadata": {},
   "outputs": [
    {
     "name": "stdout",
     "output_type": "stream",
     "text": [
      "2021-12-15\n"
     ]
    }
   ],
   "source": [
    "date_whithout_time = date_time.date() #return date without time\n",
    "print(date_whithout_time)"
   ]
  },
  {
   "cell_type": "code",
   "execution_count": 15,
   "id": "faa64a0e",
   "metadata": {},
   "outputs": [
    {
     "name": "stdout",
     "output_type": "stream",
     "text": [
      "2021-12-19 00:00:00\n"
     ]
    }
   ],
   "source": [
    "end_date = date_time.replace(day = 19) #repcace day in date\n",
    "print(end_date)"
   ]
  },
  {
   "cell_type": "code",
   "execution_count": 16,
   "id": "1e5427e8",
   "metadata": {},
   "outputs": [
    {
     "name": "stdout",
     "output_type": "stream",
     "text": [
      "2021 12 15\n"
     ]
    }
   ],
   "source": [
    "year, month, day = date_time.year, date_time.month, date_time.day #extract year, month, day from date\n",
    "print(year, month, day)"
   ]
  }
 ],
 "metadata": {
  "kernelspec": {
   "display_name": "Python 3 (ipykernel)",
   "language": "python",
   "name": "python3"
  },
  "language_info": {
   "codemirror_mode": {
    "name": "ipython",
    "version": 3
   },
   "file_extension": ".py",
   "mimetype": "text/x-python",
   "name": "python",
   "nbconvert_exporter": "python",
   "pygments_lexer": "ipython3",
   "version": "3.11.5"
  }
 },
 "nbformat": 4,
 "nbformat_minor": 5
}
