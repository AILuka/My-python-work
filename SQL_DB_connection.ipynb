{
 "cells": [
  {
   "cell_type": "markdown",
   "id": "06d2cdbe-069b-4890-a1ab-eb5e44a98a1e",
   "metadata": {},
   "source": [
    "# SQL DB connection example "
   ]
  },
  {
   "cell_type": "code",
   "execution_count": null,
   "id": "1586427a-3a12-4ce7-9119-a89d8dbffdb0",
   "metadata": {},
   "outputs": [],
   "source": [
    "import pandas as pd\n",
    "from sqlalchemy import create_engine\n",
    "from sqlalchemy import text"
   ]
  },
  {
   "cell_type": "code",
   "execution_count": 38,
   "id": "8c8dd0f7",
   "metadata": {},
   "outputs": [],
   "source": [
    "#DB connection settings:\n",
    "db_config = {'user': 'name',         # Username\n",
    "                 'pwd': '123', # passowrd\n",
    "                 'host': 'dwh-gp-master01',       # server address\n",
    "                 'port': 7433,              # port\n",
    "                 'db': 'ckdata'}             # DB name\n",
    "\n",
    "    # connection string: \n",
    "connection_string = 'postgresql://{}:{}@{}:{}/{}'.format(db_config['user'],\n",
    "                                                         db_config['pwd'],\n",
    "                                                         db_config['host'],\n",
    "                                                         db_config['port'],\n",
    "                                                         db_config['db'])\n",
    "    # Connect:\n",
    "engine = create_engine(connection_string)"
   ]
  },
  {
   "cell_type": "code",
   "execution_count": 39,
   "id": "24492c0a",
   "metadata": {},
   "outputs": [],
   "source": [
    "with engine.begin() as conn:\n",
    "    #SQL query & execution:\n",
    "    query = text('''select * \n",
    "    from GRP_EM.FCT_STOCK_INVENTORY \n",
    "    limit 10''')\n",
    "    df = pd.read_sql_query(query, conn)"
   ]
  },
  {
   "cell_type": "code",
   "execution_count": 42,
   "id": "7c226330",
   "metadata": {},
   "outputs": [
    {
     "data": {
      "text/html": [
       "<div>\n",
       "<style scoped>\n",
       "    .dataframe tbody tr th:only-of-type {\n",
       "        vertical-align: middle;\n",
       "    }\n",
       "\n",
       "    .dataframe tbody tr th {\n",
       "        vertical-align: top;\n",
       "    }\n",
       "\n",
       "    .dataframe thead th {\n",
       "        text-align: right;\n",
       "    }\n",
       "</style>\n",
       "<table border=\"1\" class=\"dataframe\">\n",
       "  <thead>\n",
       "    <tr style=\"text-align: right;\">\n",
       "      <th></th>\n",
       "      <th>dataflow_dttm</th>\n",
       "      <th>stock_inventory_start_dt</th>\n",
       "      <th>stock_inventory_end_dt</th>\n",
       "      <th>stock_point_rk</th>\n",
       "      <th>material_rk</th>\n",
       "      <th>stock_fact_uom_amt</th>\n",
       "      <th>stock_fact_rub_amt</th>\n",
       "      <th>stock_block_uom_amt</th>\n",
       "      <th>stock_block_rub_amt</th>\n",
       "      <th>stock_uom_amt</th>\n",
       "      <th>stock_rub_amt</th>\n",
       "      <th>stock_free_uom_amt</th>\n",
       "      <th>stock_free_rub_amt</th>\n",
       "      <th>stock_track_uom_amt</th>\n",
       "      <th>stock_track_rub_amt</th>\n",
       "    </tr>\n",
       "  </thead>\n",
       "  <tbody>\n",
       "    <tr>\n",
       "      <th>0</th>\n",
       "      <td>2023-02-03 07:32:41</td>\n",
       "      <td>2023-01-31</td>\n",
       "      <td>2023-02-01</td>\n",
       "      <td>61a3c142003444ad35ecb8424a0f41f1</td>\n",
       "      <td>e977a9ab14690a63d432e5b2dc407890</td>\n",
       "      <td>75.0</td>\n",
       "      <td>1950.00</td>\n",
       "      <td>0.0</td>\n",
       "      <td>0.0</td>\n",
       "      <td>75.0</td>\n",
       "      <td>1950.00</td>\n",
       "      <td>75.0</td>\n",
       "      <td>1950.00</td>\n",
       "      <td>0.0</td>\n",
       "      <td>0.0</td>\n",
       "    </tr>\n",
       "    <tr>\n",
       "      <th>1</th>\n",
       "      <td>2023-02-03 07:32:41</td>\n",
       "      <td>2023-01-31</td>\n",
       "      <td>2023-02-01</td>\n",
       "      <td>f23dec0eefbcf8516e7ee47ce3527e52</td>\n",
       "      <td>82c63bc92984e578d31ff1d1b286b925</td>\n",
       "      <td>43.0</td>\n",
       "      <td>350.88</td>\n",
       "      <td>0.0</td>\n",
       "      <td>0.0</td>\n",
       "      <td>43.0</td>\n",
       "      <td>350.88</td>\n",
       "      <td>43.0</td>\n",
       "      <td>350.88</td>\n",
       "      <td>0.0</td>\n",
       "      <td>0.0</td>\n",
       "    </tr>\n",
       "  </tbody>\n",
       "</table>\n",
       "</div>"
      ],
      "text/plain": [
       "        dataflow_dttm stock_inventory_start_dt stock_inventory_end_dt  \\\n",
       "0 2023-02-03 07:32:41               2023-01-31             2023-02-01   \n",
       "1 2023-02-03 07:32:41               2023-01-31             2023-02-01   \n",
       "\n",
       "                     stock_point_rk                       material_rk  \\\n",
       "0  61a3c142003444ad35ecb8424a0f41f1  e977a9ab14690a63d432e5b2dc407890   \n",
       "1  f23dec0eefbcf8516e7ee47ce3527e52  82c63bc92984e578d31ff1d1b286b925   \n",
       "\n",
       "   stock_fact_uom_amt  stock_fact_rub_amt  stock_block_uom_amt  \\\n",
       "0                75.0             1950.00                  0.0   \n",
       "1                43.0              350.88                  0.0   \n",
       "\n",
       "   stock_block_rub_amt  stock_uom_amt  stock_rub_amt  stock_free_uom_amt  \\\n",
       "0                  0.0           75.0        1950.00                75.0   \n",
       "1                  0.0           43.0         350.88                43.0   \n",
       "\n",
       "   stock_free_rub_amt  stock_track_uom_amt  stock_track_rub_amt  \n",
       "0             1950.00                  0.0                  0.0  \n",
       "1              350.88                  0.0                  0.0  "
      ]
     },
     "execution_count": 42,
     "metadata": {},
     "output_type": "execute_result"
    }
   ],
   "source": [
    "df.head(2)"
   ]
  },
  {
   "cell_type": "code",
   "execution_count": null,
   "id": "f75359d8",
   "metadata": {},
   "outputs": [],
   "source": []
  }
 ],
 "metadata": {
  "kernelspec": {
   "display_name": "Python 3 (ipykernel)",
   "language": "python",
   "name": "python3"
  },
  "language_info": {
   "codemirror_mode": {
    "name": "ipython",
    "version": 3
   },
   "file_extension": ".py",
   "mimetype": "text/x-python",
   "name": "python",
   "nbconvert_exporter": "python",
   "pygments_lexer": "ipython3",
   "version": "3.11.5"
  }
 },
 "nbformat": 4,
 "nbformat_minor": 5
}
